{
 "cells": [
  {
   "cell_type": "code",
   "execution_count": 1,
   "metadata": {},
   "outputs": [],
   "source": [
    "# WHICH METRIC IS MOST IMPORTANT FOR THIS TASK\n",
    "# In this case, it is important to identify all the people that, based on their features, are likely to subscribe a bank deposit.\n",
    "# Once they are identified, they can be contacted by the marketing agents, and the probability they will say \"yes\" will be high.\n",
    "# For this reason, it is important they are identified by the model --> we want high recall.\n",
    "# If the model fails and says a customer is a \"yes\" while in reality they are a \"no\", it will be a waste of time by the bank.\n",
    "# However, if their number is reasonably low, the bank would probably be happier to hear a \"no\" than to miss a potential new subscriber.\n",
    "# This means that we want high recall, while the precision is not so important (it is, because we don't want to phone to all the \n",
    "# customers, but calling some \"no\" customers is a waste of time the bank would bear, I suppose)."
   ]
  },
  {
   "cell_type": "code",
   "execution_count": 2,
   "metadata": {},
   "outputs": [],
   "source": [
    "import pandas as pd\n",
    "import sklearn.metrics\n",
    "import sklearn.preprocessing\n",
    "import sklearn.model_selection\n",
    "import sklearn.ensemble\n",
    "from collections import Counter\n",
    "import numpy as np\n",
    "import imblearn\n",
    "import random\n",
    "import matplotlib.pyplot as plt"
   ]
  },
  {
   "cell_type": "code",
   "execution_count": 3,
   "metadata": {},
   "outputs": [
    {
     "data": {
      "text/plain": [
       "(45210, 35)"
      ]
     },
     "execution_count": 3,
     "metadata": {},
     "output_type": "execute_result"
    }
   ],
   "source": [
    "df = pd.read_csv('data/ohe_df.csv')\n",
    "df.shape"
   ]
  },
  {
   "cell_type": "markdown",
   "metadata": {},
   "source": [
    "# <ins> SCALING"
   ]
  },
  {
   "cell_type": "code",
   "execution_count": 4,
   "metadata": {},
   "outputs": [
    {
     "data": {
      "text/plain": [
       "['age', 'balance', 'previous']"
      ]
     },
     "execution_count": 4,
     "metadata": {},
     "output_type": "execute_result"
    }
   ],
   "source": [
    "features_to_scale = [feat for feat in df.columns if len(df[feat].value_counts()) > 2]\n",
    "features_to_scale"
   ]
  },
  {
   "cell_type": "code",
   "execution_count": 5,
   "metadata": {},
   "outputs": [],
   "source": [
    "# Instantiate scaler\n",
    "scaler = sklearn.preprocessing.StandardScaler()"
   ]
  },
  {
   "cell_type": "code",
   "execution_count": 6,
   "metadata": {},
   "outputs": [],
   "source": [
    "# Fit scaler on just the continuous features (do not scale one-hot features!) and transform\n",
    "scaler.fit(df[features_to_scale])\n",
    "scaled_array = scaler.transform(df[features_to_scale])\n",
    "df[features_to_scale] = scaled_array"
   ]
  },
  {
   "cell_type": "markdown",
   "metadata": {},
   "source": [
    "# <ins> SPLIT"
   ]
  },
  {
   "cell_type": "code",
   "execution_count": 7,
   "metadata": {},
   "outputs": [],
   "source": [
    "train_perc = 0.70\n",
    "val_perc = 0.20\n",
    "test_perc = 0.10"
   ]
  },
  {
   "cell_type": "code",
   "execution_count": 8,
   "metadata": {},
   "outputs": [],
   "source": [
    "X_train_val = df.drop(columns='y')\n",
    "y_train_val = df['y']"
   ]
  },
  {
   "cell_type": "code",
   "execution_count": 9,
   "metadata": {},
   "outputs": [
    {
     "data": {
      "text/plain": [
       "((40689, 34), (4521, 34))"
      ]
     },
     "execution_count": 9,
     "metadata": {},
     "output_type": "execute_result"
    }
   ],
   "source": [
    "X_train_val, X_test, y_train_val, y_test = sklearn.model_selection.train_test_split(\n",
    "    X_train_val,\n",
    "    y_train_val,\n",
    "    test_size=test_perc,\n",
    "    stratify=y_train_val,\n",
    "    random_state=42\n",
    ")\n",
    "\n",
    "X_train_val.shape, X_test.shape"
   ]
  },
  {
   "cell_type": "code",
   "execution_count": 10,
   "metadata": {},
   "outputs": [
    {
     "data": {
      "text/plain": [
       "((31647, 34), (9042, 34))"
      ]
     },
     "execution_count": 10,
     "metadata": {},
     "output_type": "execute_result"
    }
   ],
   "source": [
    "X_train, X_val, y_train, y_val = sklearn.model_selection.train_test_split(\n",
    "    X_train_val,\n",
    "    y_train_val,\n",
    "    test_size=val_perc/(1-test_perc),\n",
    "    stratify=y_train_val,\n",
    "    random_state=42\n",
    ")\n",
    "\n",
    "X_train.shape, X_val.shape"
   ]
  },
  {
   "cell_type": "code",
   "execution_count": 11,
   "metadata": {},
   "outputs": [
    {
     "data": {
      "text/plain": [
       "True"
      ]
     },
     "execution_count": 11,
     "metadata": {},
     "output_type": "execute_result"
    }
   ],
   "source": [
    "X_train.shape[0] + X_val.shape[0] + X_test.shape[0] == df.shape[0] "
   ]
  },
  {
   "cell_type": "markdown",
   "metadata": {},
   "source": [
    "# <ins> RESAMPLING"
   ]
  },
  {
   "cell_type": "code",
   "execution_count": 12,
   "metadata": {},
   "outputs": [],
   "source": [
    "# To be done after the splitting, because downsampling (or upsampling) change the distribution of 0s and 1s in the training set, \n",
    "# but they should not change the distribution in the validation or test set because these should reflect the real world distribution."
   ]
  },
  {
   "cell_type": "markdown",
   "metadata": {},
   "source": [
    "## DOWNSAMPLING"
   ]
  },
  {
   "cell_type": "code",
   "execution_count": 13,
   "metadata": {},
   "outputs": [],
   "source": [
    "# Downsample the majority class"
   ]
  },
  {
   "cell_type": "code",
   "execution_count": 14,
   "metadata": {},
   "outputs": [
    {
     "data": {
      "text/plain": [
       "(3702, 27945)"
      ]
     },
     "execution_count": 14,
     "metadata": {},
     "output_type": "execute_result"
    }
   ],
   "source": [
    "idxs_target_1 = y_train[y_train == 1].index.tolist()\n",
    "idxs_target_0 = y_train[y_train == 0].index.tolist()\n",
    "\n",
    "len(idxs_target_1), len(idxs_target_0)"
   ]
  },
  {
   "cell_type": "code",
   "execution_count": 15,
   "metadata": {},
   "outputs": [],
   "source": [
    "n_downsampling = int(len(idxs_target_1) * 1)\n",
    "\n",
    "random.seed(42)\n",
    "idxs_target_0_to_keep = random.sample(idxs_target_0, n_downsampling)"
   ]
  },
  {
   "cell_type": "code",
   "execution_count": 16,
   "metadata": {},
   "outputs": [
    {
     "data": {
      "text/plain": [
       "7404"
      ]
     },
     "execution_count": 16,
     "metadata": {},
     "output_type": "execute_result"
    }
   ],
   "source": [
    "idxs = list(set(idxs_target_1) | set(idxs_target_0_to_keep))\n",
    "\n",
    "len(idxs)"
   ]
  },
  {
   "cell_type": "code",
   "execution_count": 17,
   "metadata": {},
   "outputs": [
    {
     "data": {
      "text/plain": [
       "((7404, 34), (7404,))"
      ]
     },
     "execution_count": 17,
     "metadata": {},
     "output_type": "execute_result"
    }
   ],
   "source": [
    "X_train = X_train.loc[idxs].reset_index(drop=True)\n",
    "y_train = y_train.loc[idxs]\n",
    "\n",
    "X_train.shape, y_train.shape"
   ]
  },
  {
   "cell_type": "code",
   "execution_count": null,
   "metadata": {},
   "outputs": [],
   "source": []
  },
  {
   "cell_type": "markdown",
   "metadata": {},
   "source": [
    "## UPSAMPLING"
   ]
  },
  {
   "cell_type": "code",
   "execution_count": 138,
   "metadata": {},
   "outputs": [],
   "source": [
    "# Upsample the minority class\n",
    "# actually, here I'll upsample the minority class (adding duplicates) and \n",
    "# downsample the majority class to make a balanced dataset"
   ]
  },
  {
   "cell_type": "code",
   "execution_count": 12,
   "metadata": {},
   "outputs": [
    {
     "data": {
      "text/plain": [
       "(3702, 27945)"
      ]
     },
     "execution_count": 12,
     "metadata": {},
     "output_type": "execute_result"
    }
   ],
   "source": [
    "idxs_target_1 = y_train[y_train == 1].index.tolist()\n",
    "idxs_target_0 = y_train[y_train == 0].index.tolist()\n",
    "\n",
    "len(idxs_target_1), len(idxs_target_0)"
   ]
  },
  {
   "cell_type": "code",
   "execution_count": 13,
   "metadata": {},
   "outputs": [],
   "source": [
    "upsampling_perc = 2"
   ]
  },
  {
   "cell_type": "code",
   "execution_count": 14,
   "metadata": {},
   "outputs": [
    {
     "data": {
      "text/plain": [
       "7404"
      ]
     },
     "execution_count": 14,
     "metadata": {},
     "output_type": "execute_result"
    }
   ],
   "source": [
    "n_to_upsample_target_1 = int(len(idxs_target_1) * upsampling_perc)\n",
    "\n",
    "random.seed(42)\n",
    "upsampled_idxs_target_1 = random.choices(population=idxs_target_1, k=n_to_upsample_target_1)\n",
    "\n",
    "len(upsampled_idxs_target_1)"
   ]
  },
  {
   "cell_type": "code",
   "execution_count": 15,
   "metadata": {},
   "outputs": [
    {
     "data": {
      "text/plain": [
       "11106"
      ]
     },
     "execution_count": 15,
     "metadata": {},
     "output_type": "execute_result"
    }
   ],
   "source": [
    "final_idxs_target_1 = idxs_target_1 + upsampled_idxs_target_1\n",
    "\n",
    "len(final_idxs_target_1)"
   ]
  },
  {
   "cell_type": "code",
   "execution_count": 16,
   "metadata": {},
   "outputs": [
    {
     "data": {
      "text/plain": [
       "11106"
      ]
     },
     "execution_count": 16,
     "metadata": {},
     "output_type": "execute_result"
    }
   ],
   "source": [
    "# Downsampling\n",
    "random.seed(42)\n",
    "idxs_target_0_to_keep = random.sample(idxs_target_0, len(final_idxs_target_1))\n",
    "\n",
    "len(idxs_target_0_to_keep)"
   ]
  },
  {
   "cell_type": "code",
   "execution_count": 17,
   "metadata": {},
   "outputs": [
    {
     "data": {
      "text/plain": [
       "22212"
      ]
     },
     "execution_count": 17,
     "metadata": {},
     "output_type": "execute_result"
    }
   ],
   "source": [
    "idxs = final_idxs_target_1 + idxs_target_0_to_keep\n",
    "\n",
    "len(idxs)"
   ]
  },
  {
   "cell_type": "code",
   "execution_count": 18,
   "metadata": {},
   "outputs": [
    {
     "data": {
      "text/plain": [
       "((22212, 34), (22212,))"
      ]
     },
     "execution_count": 18,
     "metadata": {},
     "output_type": "execute_result"
    }
   ],
   "source": [
    "X_train = X_train.loc[idxs].reset_index(drop=True)\n",
    "y_train = y_train.loc[idxs]\n",
    "\n",
    "X_train.shape, y_train.shape"
   ]
  },
  {
   "cell_type": "markdown",
   "metadata": {},
   "source": [
    "## SMOTE"
   ]
  },
  {
   "cell_type": "code",
   "execution_count": 12,
   "metadata": {},
   "outputs": [],
   "source": [
    "# - SMOTE will balance the dataset by creating synthetic data with class 1 via KNN.\n",
    "# - To avoid a too high proportion of synthetic data, class 0 is first downsampled\n",
    "#   to N, where N is the number of samples per class I'll want in the final dataset.\n",
    "# - This is here expressed as a multiple of the number of instances of class 1 in \n",
    "#   the original dataset."
   ]
  },
  {
   "cell_type": "code",
   "execution_count": 13,
   "metadata": {},
   "outputs": [],
   "source": [
    "idxs_target_1 = y_train[y_train == 1].index.tolist()\n",
    "idxs_target_0 = y_train[y_train == 0].index.tolist()"
   ]
  },
  {
   "cell_type": "code",
   "execution_count": 14,
   "metadata": {},
   "outputs": [
    {
     "name": "stdout",
     "output_type": "stream",
     "text": [
      "3702 11106\n"
     ]
    },
    {
     "data": {
      "text/plain": [
       "((14808, 34), (14808,))"
      ]
     },
     "execution_count": 14,
     "metadata": {},
     "output_type": "execute_result"
    }
   ],
   "source": [
    "n_downsampling = len(idxs_target_1) * 2\n",
    "\n",
    "random.seed(42)\n",
    "idxs_target_0_to_keep = random.sample(idxs_target_0, n_downsampling)\n",
    "print(len(idxs_target_1), len(idxs_target_0_to_keep))\n",
    "\n",
    "idxs = list(set(idxs_target_1) | set(idxs_target_0_to_keep))\n",
    "X_train = X_train.loc[idxs].reset_index(drop=True)\n",
    "y_train = y_train.loc[idxs]\n",
    "\n",
    "X_train.shape, y_train.shape"
   ]
  },
  {
   "cell_type": "code",
   "execution_count": 15,
   "metadata": {},
   "outputs": [
    {
     "data": {
      "text/plain": [
       "((22212, 34), (22212,))"
      ]
     },
     "execution_count": 15,
     "metadata": {},
     "output_type": "execute_result"
    }
   ],
   "source": [
    "smote = imblearn.over_sampling.SMOTE(\n",
    "    sampling_strategy='minority', # resample only the minority class\n",
    "    k_neighbors=5, \n",
    "    random_state=42\n",
    ")\n",
    "\n",
    "X_train, y_train = smote.fit_resample(X_train, y_train)\n",
    "\n",
    "X_train.shape, y_train.shape"
   ]
  },
  {
   "cell_type": "markdown",
   "metadata": {},
   "source": [
    "# <ins> RANDOM FOREST"
   ]
  },
  {
   "cell_type": "code",
   "execution_count": 19,
   "metadata": {},
   "outputs": [],
   "source": [
    "rf_model = sklearn.ensemble.RandomForestClassifier(\n",
    "    n_estimators=200,\n",
    "    criterion='gini',\n",
    "    max_depth=None, # None = max depth possible\n",
    "    min_samples_split=2,\n",
    "    min_samples_leaf=1,\n",
    "    max_features=None,\n",
    "    bootstrap=True,\n",
    "    n_jobs=12,\n",
    "    random_state=42,\n",
    "    class_weight=None # 'balanced_subsample' for unbalanced data\n",
    ")\n",
    "\n",
    "# Effect of using class weights for unbalanced data:\n",
    "# - in boostrapping the instances for each tree, to ensure adeguate representation of the rare class (specific for `balanced_subsample`).\n",
    "# - changes Gini index and therefore features to split upon."
   ]
  },
  {
   "cell_type": "code",
   "execution_count": 20,
   "metadata": {},
   "outputs": [],
   "source": [
    "_ = rf_model.fit(X=X_train, y=y_train)"
   ]
  },
  {
   "cell_type": "code",
   "execution_count": 21,
   "metadata": {},
   "outputs": [],
   "source": [
    "y_pred = rf_model.predict(X_val)"
   ]
  },
  {
   "cell_type": "code",
   "execution_count": 22,
   "metadata": {},
   "outputs": [
    {
     "data": {
      "text/plain": [
       "(463, 6829, 1155, 595)"
      ]
     },
     "execution_count": 22,
     "metadata": {},
     "output_type": "execute_result"
    }
   ],
   "source": [
    "tp = ((y_val == 1) * (y_pred == 1)).sum()\n",
    "tn = ((y_val == 0) * (y_pred == 0)).sum()\n",
    "fp = ((y_val == 0) * (y_pred == 1)).sum()\n",
    "fn = ((y_val == 1) * (y_pred == 0)).sum()\n",
    "\n",
    "tp, tn, fp, fn"
   ]
  },
  {
   "cell_type": "code",
   "execution_count": 23,
   "metadata": {},
   "outputs": [],
   "source": [
    "# # Confusion matrix\n",
    "# sklearn.metrics.confusion_matrix(y_true=y_val, y_pred=y_pred)"
   ]
  },
  {
   "cell_type": "code",
   "execution_count": 24,
   "metadata": {},
   "outputs": [
    {
     "name": "stdout",
     "output_type": "stream",
     "text": [
      "[0.81, 0.29, 0.44, 0.86, 0.7]\n"
     ]
    }
   ],
   "source": [
    "accuracy = (tp + tn) / (tp + tn + fp + fn)\n",
    "precision = tp / (tp + fp)\n",
    "recall = tp / (tp + fn)\n",
    "specificity = tn / (tn + fp)\n",
    "\n",
    "probs = rf_model.predict_proba(X_val)[:, 1]\n",
    "auc = sklearn.metrics.roc_auc_score(y_val, probs)\n",
    "\n",
    "metrics = np.array([accuracy, precision, recall, specificity, auc]).round(2).tolist()\n",
    "print(metrics)\n",
    "\n",
    "metrics_df = pd.DataFrame(columns=['accuracy', 'precision', 'recall', 'specificity', 'auc'])\n",
    "metrics_df.loc[0] = metrics\n",
    "metrics_df.to_csv('metrics.csv', index=False)"
   ]
  },
  {
   "cell_type": "code",
   "execution_count": 25,
   "metadata": {},
   "outputs": [
    {
     "data": {
      "image/png": "[encoded data removed]",
      "text/plain": [
       "<Figure size 300x300 with 1 Axes>"
      ]
     },
     "metadata": {},
     "output_type": "display_data"
    }
   ],
   "source": [
    "# ROC\n",
    "fpr, tpr, _ = sklearn.metrics.roc_curve(y_val, probs)\n",
    "\n",
    "plt.figure(figsize=(3, 3))\n",
    "plt.plot(fpr, tpr)\n",
    "plt.plot([0, 1], [0, 1], linestyle='--')\n",
    "plt.xlabel('FPR')\n",
    "plt.ylabel('TPR')\n",
    "plt.title('ROC')\n",
    "plt.show()"
   ]
  },
  {
   "cell_type": "code",
   "execution_count": 26,
   "metadata": {},
   "outputs": [],
   "source": [
    "# With a perfectly balanced dataset, the model identifies 62% of the probable \"yes\" customers (recall = 0.624),\n",
    "# and the marketing agents will get a \"yes\" answer every 5 calls (precision = 0.206)."
   ]
  },
  {
   "cell_type": "markdown",
   "metadata": {},
   "source": [
    "## FEATURE IMPORTANCE"
   ]
  },
  {
   "cell_type": "code",
   "execution_count": 27,
   "metadata": {},
   "outputs": [
    {
     "data": {
      "text/plain": [
       "array([0.206, 0.35 , 0.005, 0.004, 0.012, 0.016, 0.014, 0.033, 0.017,\n",
       "       0.017, 0.009, 0.007, 0.018, 0.005, 0.009, 0.014, 0.005, 0.019,\n",
       "       0.008, 0.022, 0.011, 0.015, 0.01 , 0.019, 0.015, 0.006, 0.006,\n",
       "       0.005, 0.004, 0.006, 0.004, 0.077, 0.004, 0.027])"
      ]
     },
     "execution_count": 27,
     "metadata": {},
     "output_type": "execute_result"
    }
   ],
   "source": [
    "feature_importances = rf_model.feature_importances_.round(3)\n",
    "feature_importances"
   ]
  },
  {
   "cell_type": "code",
   "execution_count": 28,
   "metadata": {},
   "outputs": [],
   "source": [
    "feat_imp_dict = dict(zip(feature_importances, X_train.columns))"
   ]
  },
  {
   "cell_type": "code",
   "execution_count": 29,
   "metadata": {},
   "outputs": [
    {
     "data": {
      "text/plain": [
       "[(0.35, 'balance'),\n",
       " (0.206, 'age'),\n",
       " (0.077, 'poutcome_success'),\n",
       " (0.033, 'housing'),\n",
       " (0.027, 'previous'),\n",
       " (0.022, 'loan'),\n",
       " (0.019, 'n_contacts_1'),\n",
       " (0.018, 'job_management'),\n",
       " (0.017, 'job_blue-collar'),\n",
       " (0.016, 'education_secondary'),\n",
       " (0.015, 'n_contacts_2-8'),\n",
       " (0.014, 'job_services'),\n",
       " (0.012, 'education_primary'),\n",
       " (0.011, 'marital_divorced'),\n",
       " (0.01, 'marital_single'),\n",
       " (0.009, 'job_self-employed'),\n",
       " (0.008, 'job_unemployed'),\n",
       " (0.007, 'job_housemaid'),\n",
       " (0.006, 'pdays_never_contacted_before'),\n",
       " (0.005, 'pdays_201-400')]"
      ]
     },
     "execution_count": 29,
     "metadata": {},
     "output_type": "execute_result"
    }
   ],
   "source": [
    "sorted(feat_imp_dict.items(), key=lambda x:x[0], reverse=True)[:20]"
   ]
  },
  {
   "cell_type": "markdown",
   "metadata": {},
   "source": [
    "## CROSS-VALIDATION"
   ]
  },
  {
   "cell_type": "code",
   "execution_count": 30,
   "metadata": {},
   "outputs": [
    {
     "data": {
      "text/plain": [
       "((31254, 34), (31254,))"
      ]
     },
     "execution_count": 30,
     "metadata": {},
     "output_type": "execute_result"
    }
   ],
   "source": [
    "X_crossval = pd.concat([X_train, X_val]).reset_index(drop=True) # GETS RESAMPLED\n",
    "y_crossval = pd.concat([y_train, y_val]).reset_index(drop=True) # GETS NOT RESAMPLED! FIX! REDO METRICS!\n",
    "\n",
    "X_crossval.shape, y_crossval.shape"
   ]
  },
  {
   "cell_type": "code",
   "execution_count": 31,
   "metadata": {},
   "outputs": [],
   "source": [
    "rf_model = sklearn.ensemble.RandomForestClassifier(\n",
    "    n_estimators=200,\n",
    "    criterion='gini',\n",
    "    max_depth=None,\n",
    "    min_samples_split=2,\n",
    "    min_samples_leaf=1,\n",
    "    max_features=None,\n",
    "    bootstrap=True,\n",
    "    n_jobs=12,\n",
    "    random_state=42,\n",
    "    class_weight=None\n",
    ")"
   ]
  },
  {
   "cell_type": "code",
   "execution_count": 32,
   "metadata": {},
   "outputs": [
    {
     "data": {
      "text/plain": [
       "0.91"
      ]
     },
     "execution_count": 32,
     "metadata": {},
     "output_type": "execute_result"
    }
   ],
   "source": [
    "cv_scores = sklearn.model_selection.cross_val_score(\n",
    "    estimator=rf_model, \n",
    "    X=X_crossval, \n",
    "    y=y_crossval,\n",
    "    scoring='recall',\n",
    "    cv=5, # For int/None inputs, if the estimator is a classifier and y is either binary or multiclass, StratifiedKFold is used. \n",
    "    n_jobs=12\n",
    ")\n",
    "\n",
    "cv_scores.mean().round(2)"
   ]
  },
  {
   "cell_type": "code",
   "execution_count": null,
   "metadata": {},
   "outputs": [],
   "source": []
  }
 ],
 "metadata": {
  "kernelspec": {
   "display_name": "gym",
   "language": "python",
   "name": "python3"
  },
  "language_info": {
   "codemirror_mode": {
    "name": "ipython",
    "version": 3
   },
   "file_extension": ".py",
   "mimetype": "text/x-python",
   "name": "python",
   "nbconvert_exporter": "python",
   "pygments_lexer": "ipython3",
   "version": "3.9.16"
  }
 },
 "nbformat": 4,
 "nbformat_minor": 2
}
