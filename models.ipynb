{
 "cells": [
  {
   "cell_type": "code",
   "execution_count": 1,
   "metadata": {},
   "outputs": [],
   "source": [
    "# WHICH METRIC IS MOST IMPORTANT FOR THIS TASK\n",
    "# In this case, it is important to identify all the people that, based on their features, are likely to subscribe a bank deposit.\n",
    "# Once they are identified, they can be contacted by the marketing agents, and the probability they will say \"yes\" will be high.\n",
    "# For this reason, it is important they are identified by the model --> we want high recall.\n",
    "# If the model fails and says a customer is a \"yes\" while in reality they are a \"no\", it will be a waste of time by the bank.\n",
    "# However, if their number is reasonably low, the bank would probably be happier to hear a \"no\" than to miss a potential new subscriber.\n",
    "# This means that we want high recall, while the precision is not so important (it is, because we don't want to phone to all the \n",
    "# customers, but calling some \"no\" customers is a waste of time the bank would bear, I suppose)."
   ]
  },
  {
   "cell_type": "code",
   "execution_count": 2,
   "metadata": {},
   "outputs": [],
   "source": [
    "import pandas as pd\n",
    "import sklearn.metrics\n",
    "import sklearn.preprocessing\n",
    "import sklearn.model_selection\n",
    "import sklearn.ensemble\n",
    "from collections import Counter\n",
    "import numpy as np\n",
    "import imblearn\n",
    "import random\n",
    "import matplotlib.pyplot as plt\n",
    "\n",
    "from utils.resampling import *\n",
    "from utils.metrics import compute_metrics"
   ]
  },
  {
   "cell_type": "code",
   "execution_count": 3,
   "metadata": {},
   "outputs": [
    {
     "data": {
      "text/plain": [
       "(45210, 35)"
      ]
     },
     "execution_count": 3,
     "metadata": {},
     "output_type": "execute_result"
    }
   ],
   "source": [
    "df = pd.read_csv('data/ohe_df.csv')\n",
    "df.shape"
   ]
  },
  {
   "cell_type": "markdown",
   "metadata": {},
   "source": [
    "# <ins> SCALING"
   ]
  },
  {
   "cell_type": "code",
   "execution_count": 4,
   "metadata": {},
   "outputs": [
    {
     "data": {
      "text/plain": [
       "['age', 'balance', 'previous']"
      ]
     },
     "execution_count": 4,
     "metadata": {},
     "output_type": "execute_result"
    }
   ],
   "source": [
    "features_to_scale = [feat for feat in df.columns if len(df[feat].value_counts()) > 2]\n",
    "features_to_scale"
   ]
  },
  {
   "cell_type": "code",
   "execution_count": 5,
   "metadata": {},
   "outputs": [],
   "source": [
    "# Instantiate scaler\n",
    "scaler = sklearn.preprocessing.StandardScaler()"
   ]
  },
  {
   "cell_type": "code",
   "execution_count": 6,
   "metadata": {},
   "outputs": [],
   "source": [
    "# Fit scaler on just the continuous features (do not scale one-hot features!) and transform\n",
    "scaler.fit(df[features_to_scale])\n",
    "scaled_array = scaler.transform(df[features_to_scale])\n",
    "df[features_to_scale] = scaled_array"
   ]
  },
  {
   "cell_type": "markdown",
   "metadata": {},
   "source": [
    "# <ins> SPLIT"
   ]
  },
  {
   "cell_type": "code",
   "execution_count": 7,
   "metadata": {},
   "outputs": [],
   "source": [
    "X = df.drop(columns='y')\n",
    "y = df['y']"
   ]
  },
  {
   "cell_type": "code",
   "execution_count": 8,
   "metadata": {},
   "outputs": [],
   "source": [
    "# # Standard split in train, val and test.\n",
    "# train_perc = 0.70\n",
    "# val_perc = 0.20\n",
    "# test_perc = 0.10\n",
    "\n",
    "# X_train_val, X_test, y_train_val, y_test = sklearn.model_selection.train_test_split(\n",
    "#     X,\n",
    "#     y,\n",
    "#     test_size=test_perc,\n",
    "#     stratify=y,\n",
    "#     random_state=42\n",
    "# )\n",
    "\n",
    "# print(X_train_val.shape, X_test.shape)\n",
    "\n",
    "# X_train, X_val, y_train, y_val = sklearn.model_selection.train_test_split(\n",
    "#     X_train_val,\n",
    "#     y_train_val,\n",
    "#     test_size=val_perc/(1-test_perc),\n",
    "#     stratify=y_train_val,\n",
    "#     random_state=42\n",
    "# )\n",
    "\n",
    "# print(X_train.shape, X_val.shape)\n",
    "\n",
    "# do_numbers_add_up = X_train.shape[0] + X_val.shape[0] + X_test.shape[0] == df.shape[0]\n",
    "\n",
    "# print(do_numbers_add_up)\n",
    "\n",
    "# # (40689, 34) (4521, 34)\n",
    "# # (31647, 34) (9042, 34)\n",
    "# # True"
   ]
  },
  {
   "cell_type": "code",
   "execution_count": 9,
   "metadata": {},
   "outputs": [
    {
     "name": "stdout",
     "output_type": "stream",
     "text": [
      "(36168, 34) (9042, 34)\n"
     ]
    }
   ],
   "source": [
    "# Split for cross-validation\n",
    "train_perc = 0.80\n",
    "test_perc = 0.20\n",
    "\n",
    "X_train, X_test, y_train, y_test = sklearn.model_selection.train_test_split(\n",
    "    X,\n",
    "    y,\n",
    "    test_size=test_perc,\n",
    "    stratify=y,\n",
    "    random_state=42\n",
    ")\n",
    "\n",
    "print(X_train.shape, X_test.shape)"
   ]
  },
  {
   "cell_type": "markdown",
   "metadata": {},
   "source": [
    "# <ins> RESAMPLING"
   ]
  },
  {
   "cell_type": "code",
   "execution_count": 10,
   "metadata": {},
   "outputs": [],
   "source": [
    "# To be done after the splitting, because downsampling (or upsampling) change the distribution of \n",
    "# 0s and 1s in the training set, but they should not change the distribution in the validation or \n",
    "# test set because these should reflect the real world distribution."
   ]
  },
  {
   "cell_type": "code",
   "execution_count": 11,
   "metadata": {},
   "outputs": [],
   "source": [
    "# ## DOWNSAMPLING\n",
    "# # Downsample the majority class\n",
    "# X_train, y_train = downsampling(X=X_train, y=y_train, factor=2)\n",
    "\n",
    "# X_train.shape, y_train.shape"
   ]
  },
  {
   "cell_type": "code",
   "execution_count": 12,
   "metadata": {},
   "outputs": [
    {
     "data": {
      "text/plain": [
       "((25386, 34), (25386,))"
      ]
     },
     "execution_count": 12,
     "metadata": {},
     "output_type": "execute_result"
    }
   ],
   "source": [
    "## UPSAMPLING\n",
    "# Upsample the minority class\n",
    "# actually, here I'll upsample the minority class (adding duplicates) and \n",
    "# downsample the majority class to make a balanced dataset\n",
    "X_train, y_train = upsampling(X=X_train, y=y_train, factor=2) # `factor=2` --> class 1 becomes 3x\n",
    "\n",
    "X_train.shape, y_train.shape"
   ]
  },
  {
   "cell_type": "code",
   "execution_count": 13,
   "metadata": {},
   "outputs": [],
   "source": [
    "# ## SMOTE (Synthetic Minority Over-sampling TEchnique)\n",
    "# # - SMOTE will balance the dataset by creating synthetic data with class 1 via KNN.\n",
    "# # - To avoid a too high proportion of synthetic data, class 0 is first downsampled\n",
    "# #   to N, where N is the number of samples per class I'll want in the final dataset.\n",
    "# # - This is here expressed as a multiple of the number of instances of class 1 in \n",
    "# #   the original dataset.\n",
    "# X_train, y_train = smote_sampling(X=X_train, y=y_train, factor=2)\n",
    "\n",
    "# X_train.shape, y_train.shape"
   ]
  },
  {
   "cell_type": "markdown",
   "metadata": {},
   "source": [
    "# <ins> RANDOM FOREST"
   ]
  },
  {
   "cell_type": "markdown",
   "metadata": {},
   "source": [
    "## SIMPLE APPROACH"
   ]
  },
  {
   "cell_type": "code",
   "execution_count": 14,
   "metadata": {},
   "outputs": [],
   "source": [
    "# Fit model on training set and test it on the test set (just to show the basic approach, while in\n",
    "# a proper analysis we should use the validation set for the hyperparamer tuning)"
   ]
  },
  {
   "cell_type": "code",
   "execution_count": 15,
   "metadata": {},
   "outputs": [],
   "source": [
    "rf_model = sklearn.ensemble.RandomForestClassifier(\n",
    "    n_estimators=200,\n",
    "    criterion='gini',\n",
    "    max_depth=None, # None = max depth possible\n",
    "    min_samples_split=2,\n",
    "    min_samples_leaf=1,\n",
    "    max_features=None,\n",
    "    bootstrap=True,\n",
    "    n_jobs=12,\n",
    "    random_state=42,\n",
    "    class_weight=None # 'balanced_subsample' for unbalanced data\n",
    ")\n",
    "\n",
    "# Effect of using class weights for unbalanced data:\n",
    "# - in boostrapping the instances for each tree, to ensure adeguate representation of the rare class \n",
    "#   (specific for `balanced_subsample`).\n",
    "# - changes Gini index and therefore features to split upon."
   ]
  },
  {
   "cell_type": "code",
   "execution_count": 16,
   "metadata": {},
   "outputs": [],
   "source": [
    "_ = rf_model.fit(X=X_train, y=y_train)\n",
    "y_pred = rf_model.predict(X_test)"
   ]
  },
  {
   "cell_type": "code",
   "execution_count": 17,
   "metadata": {},
   "outputs": [
    {
     "data": {
      "text/plain": [
       "AttrDict({'tp': 455, 'tn': 6876, 'fp': 1108, 'fn': 603, 'accuracy': 0.81, 'precision': 0.29, 'recall': 0.43, 'specificity': 0.86})"
      ]
     },
     "execution_count": 17,
     "metadata": {},
     "output_type": "execute_result"
    }
   ],
   "source": [
    "metrics = compute_metrics(preds=y_pred, trues=y_test)\n",
    "metrics"
   ]
  },
  {
   "cell_type": "code",
   "execution_count": 18,
   "metadata": {},
   "outputs": [
    {
     "data": {
      "text/plain": [
       "array([[6876, 1108],\n",
       "       [ 603,  455]])"
      ]
     },
     "execution_count": 18,
     "metadata": {},
     "output_type": "execute_result"
    }
   ],
   "source": [
    "# Confusion matrix\n",
    "sklearn.metrics.confusion_matrix(y_true=y_test, y_pred=y_pred)"
   ]
  },
  {
   "cell_type": "code",
   "execution_count": 19,
   "metadata": {},
   "outputs": [
    {
     "name": "stdout",
     "output_type": "stream",
     "text": [
      "AUC: 0.69\n"
     ]
    }
   ],
   "source": [
    "# AUC\n",
    "probs = rf_model.predict_proba(X_test)[:, 1]\n",
    "auc = sklearn.metrics.roc_auc_score(y_test, probs)\n",
    "auc = round(auc, 2)\n",
    "\n",
    "print(f'AUC: {auc}')"
   ]
  },
  {
   "cell_type": "code",
   "execution_count": 20,
   "metadata": {},
   "outputs": [
    {
     "data": {
      "text/html": [
       "<div>\n",
       "<style scoped>\n",
       "    .dataframe tbody tr th:only-of-type {\n",
       "        vertical-align: middle;\n",
       "    }\n",
       "\n",
       "    .dataframe tbody tr th {\n",
       "        vertical-align: top;\n",
       "    }\n",
       "\n",
       "    .dataframe thead th {\n",
       "        text-align: right;\n",
       "    }\n",
       "</style>\n",
       "<table border=\"1\" class=\"dataframe\">\n",
       "  <thead>\n",
       "    <tr style=\"text-align: right;\">\n",
       "      <th></th>\n",
       "      <th>accuracy</th>\n",
       "      <th>precision</th>\n",
       "      <th>recall</th>\n",
       "      <th>specificity</th>\n",
       "      <th>auc</th>\n",
       "    </tr>\n",
       "  </thead>\n",
       "  <tbody>\n",
       "    <tr>\n",
       "      <th>0</th>\n",
       "      <td>0.81</td>\n",
       "      <td>0.29</td>\n",
       "      <td>0.43</td>\n",
       "      <td>0.86</td>\n",
       "      <td>0.69</td>\n",
       "    </tr>\n",
       "  </tbody>\n",
       "</table>\n",
       "</div>"
      ],
      "text/plain": [
       "   accuracy  precision  recall  specificity   auc\n",
       "0      0.81       0.29    0.43         0.86  0.69"
      ]
     },
     "execution_count": 20,
     "metadata": {},
     "output_type": "execute_result"
    }
   ],
   "source": [
    "# Create df for easier (manual) logging\n",
    "metrics_df = pd.DataFrame({\n",
    "    'accuracy': metrics.accuracy,\n",
    "    'precision': metrics.precision,\n",
    "    'recall': metrics.recall,\n",
    "    'specificity': metrics.specificity,\n",
    "    'auc': auc\n",
    "}, index=[0])\n",
    "\n",
    "metrics_df.to_csv('metrics.csv', index=False)\n",
    "\n",
    "metrics_df"
   ]
  },
  {
   "cell_type": "code",
   "execution_count": 21,
   "metadata": {},
   "outputs": [
    {
     "data": {
      "image/png": "[encoded data removed]",
      "text/plain": [
       "<Figure size 300x300 with 1 Axes>"
      ]
     },
     "metadata": {},
     "output_type": "display_data"
    }
   ],
   "source": [
    "# ROC\n",
    "fpr, tpr, _ = sklearn.metrics.roc_curve(y_test, probs)\n",
    "\n",
    "plt.figure(figsize=(3, 3))\n",
    "plt.plot(fpr, tpr)\n",
    "plt.plot([0, 1], [0, 1], linestyle='--')\n",
    "plt.xlabel('FPR')\n",
    "plt.ylabel('TPR')\n",
    "plt.title('ROC')\n",
    "plt.show()"
   ]
  },
  {
   "cell_type": "code",
   "execution_count": 22,
   "metadata": {},
   "outputs": [],
   "source": [
    "# With a perfectly balanced dataset, the model identifies 62% of the probable \"yes\" customers (recall = 0.624),\n",
    "# and the marketing agents will get a \"yes\" answer every 5 calls (precision = 0.206)."
   ]
  },
  {
   "cell_type": "markdown",
   "metadata": {},
   "source": [
    "## FEATURE IMPORTANCE"
   ]
  },
  {
   "cell_type": "code",
   "execution_count": 23,
   "metadata": {},
   "outputs": [
    {
     "data": {
      "text/plain": [
       "array([0.202, 0.351, 0.005, 0.003, 0.012, 0.017, 0.014, 0.032, 0.016,\n",
       "       0.019, 0.008, 0.006, 0.017, 0.005, 0.008, 0.014, 0.005, 0.021,\n",
       "       0.008, 0.023, 0.011, 0.015, 0.011, 0.018, 0.014, 0.006, 0.006,\n",
       "       0.005, 0.005, 0.005, 0.004, 0.084, 0.004, 0.027])"
      ]
     },
     "execution_count": 23,
     "metadata": {},
     "output_type": "execute_result"
    }
   ],
   "source": [
    "feature_importances = rf_model.feature_importances_.round(3)\n",
    "feature_importances"
   ]
  },
  {
   "cell_type": "code",
   "execution_count": 24,
   "metadata": {},
   "outputs": [],
   "source": [
    "feat_imp_dict = dict(zip(feature_importances, X_train.columns))"
   ]
  },
  {
   "cell_type": "code",
   "execution_count": 25,
   "metadata": {},
   "outputs": [
    {
     "data": {
      "text/plain": [
       "[(0.351, 'balance'),\n",
       " (0.202, 'age'),\n",
       " (0.084, 'poutcome_success'),\n",
       " (0.032, 'housing'),\n",
       " (0.027, 'previous'),\n",
       " (0.023, 'loan'),\n",
       " (0.021, 'job_technician'),\n",
       " (0.019, 'job_blue-collar'),\n",
       " (0.018, 'n_contacts_1'),\n",
       " (0.017, 'job_management'),\n",
       " (0.016, 'job_admin.'),\n",
       " (0.015, 'marital_married'),\n",
       " (0.014, 'n_contacts_2-8'),\n",
       " (0.012, 'education_primary'),\n",
       " (0.011, 'marital_single'),\n",
       " (0.008, 'job_unemployed'),\n",
       " (0.006, 'pdays_1-200'),\n",
       " (0.005, 'pdays_never_contacted_before'),\n",
       " (0.004, 'poutcome_unknown'),\n",
       " (0.003, 'default')]"
      ]
     },
     "execution_count": 25,
     "metadata": {},
     "output_type": "execute_result"
    }
   ],
   "source": [
    "sorted(feat_imp_dict.items(), key=lambda x:x[0], reverse=True)[:20]"
   ]
  },
  {
   "cell_type": "markdown",
   "metadata": {},
   "source": [
    "## CROSS-VALIDATION"
   ]
  },
  {
   "cell_type": "code",
   "execution_count": 26,
   "metadata": {},
   "outputs": [
    {
     "data": {
      "text/plain": [
       "0.97"
      ]
     },
     "execution_count": 26,
     "metadata": {},
     "output_type": "execute_result"
    }
   ],
   "source": [
    "# Basic approach to cross-validation\n",
    "rf_model = sklearn.ensemble.RandomForestClassifier(\n",
    "    n_estimators=200,\n",
    "    criterion='gini',\n",
    "    max_depth=None,\n",
    "    min_samples_split=2,\n",
    "    min_samples_leaf=1,\n",
    "    max_features=None,\n",
    "    bootstrap=True,\n",
    "    n_jobs=12,\n",
    "    random_state=42,\n",
    "    class_weight=None\n",
    ")\n",
    "\n",
    "cv_scores = sklearn.model_selection.cross_val_score(\n",
    "    estimator=rf_model, \n",
    "    X=X_train, \n",
    "    y=y_train,\n",
    "    scoring='recall',\n",
    "    cv=5, # For int inputs, since estimator is a classifier and y is binary, StratifiedKFold is used. \n",
    "    n_jobs=12\n",
    ")\n",
    "\n",
    "cv_scores.mean().round(2)\n",
    "\n",
    "# 0.97\n",
    "\n",
    "# Problem: in this case, the training set has undergone resampling. Therefore during cross-validation, \n",
    "# each fold used as validation has undergone resampling too, so it doesn't reflect the real data \n",
    "# distribution."
   ]
  },
  {
   "cell_type": "code",
   "execution_count": 10,
   "metadata": {},
   "outputs": [],
   "source": [
    "## Cross-validation for unbalanced data: use non-resampled dataset!\n",
    "# Use a Pipeline for each set of folds. This pipeline will do resampling separately for each iteration,\n",
    "# and only for the folds used for the training.\n",
    "# The pipeline here is composed of a downsampler, an upsampler, and a model.\n",
    "\n",
    "# Downsampler\n",
    "# sampling_strategy=0.5 --> class 1 will become 50% of class 0.\n",
    "downsampler = imblearn.under_sampling.RandomUnderSampler(sampling_strategy=0.5, random_state=42)\n",
    "\n",
    "# Upsampler\n",
    "# sampling_strategy=1.0 --> ratio between class 1 and class 0 will be 1 --> balanced\n",
    "upsampler = imblearn.over_sampling.RandomOverSampler(sampling_strategy=1.0, random_state=42)\n",
    "\n",
    "# Model\n",
    "rf_model = sklearn.ensemble.RandomForestClassifier(\n",
    "    n_estimators=200,\n",
    "    criterion='gini',\n",
    "    max_depth=None,\n",
    "    min_samples_split=2,\n",
    "    min_samples_leaf=1,\n",
    "    max_features=None,\n",
    "    bootstrap=True,\n",
    "    n_jobs=12,\n",
    "    random_state=42,\n",
    "    class_weight=None\n",
    ")\n",
    "\n",
    "pipeline = imblearn.pipeline.Pipeline([\n",
    "    ('downsampler', downsampler),\n",
    "    ('upsampler', upsampler),\n",
    "    ('model', rf_model) \n",
    "])"
   ]
  },
  {
   "cell_type": "code",
   "execution_count": 12,
   "metadata": {},
   "outputs": [
    {
     "data": {
      "text/plain": [
       "0.49420915295062223"
      ]
     },
     "execution_count": 12,
     "metadata": {},
     "output_type": "execute_result"
    }
   ],
   "source": [
    "sklearn.model_selection.cross_val_score(pipeline, X_train, y_train, cv=10, scoring='recall').mean()\n",
    "\n",
    "# 5 fold --> 0.49\n",
    "# 10 fold --> 0.49"
   ]
  }
 ],
 "metadata": {
  "kernelspec": {
   "display_name": "gym",
   "language": "python",
   "name": "python3"
  },
  "language_info": {
   "codemirror_mode": {
    "name": "ipython",
    "version": 3
   },
   "file_extension": ".py",
   "mimetype": "text/x-python",
   "name": "python",
   "nbconvert_exporter": "python",
   "pygments_lexer": "ipython3",
   "version": "3.9.16"
  }
 },
 "nbformat": 4,
 "nbformat_minor": 2
}
